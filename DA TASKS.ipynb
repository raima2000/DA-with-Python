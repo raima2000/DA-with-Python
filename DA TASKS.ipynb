{
 "cells": [
  {
   "cell_type": "code",
   "execution_count": 1,
   "id": "b7c7d7f6",
   "metadata": {},
   "outputs": [],
   "source": [
    "# program to perform different set operations in mathematics\n",
    "# Define two sets\n",
    "A ={ 0,2,4,6,8};\n",
    "B ={1,2,3,4,5};"
   ]
  },
  {
   "cell_type": "code",
   "execution_count": 2,
   "id": "20d73ae8",
   "metadata": {},
   "outputs": [
    {
     "name": "stdout",
     "output_type": "stream",
     "text": [
      "Union of A and B is {0, 1, 2, 3, 4, 5, 6, 8}\n"
     ]
    }
   ],
   "source": [
    "# set union\n",
    "print('Union of A and B is', A|B)"
   ]
  },
  {
   "cell_type": "code",
   "execution_count": 3,
   "id": "be292af8",
   "metadata": {},
   "outputs": [
    {
     "name": "stdout",
     "output_type": "stream",
     "text": [
      "Intersection of A and B is {2, 4}\n"
     ]
    }
   ],
   "source": [
    "# set intersection \n",
    "print('Intersection of A and B is', A & B)"
   ]
  },
  {
   "cell_type": "code",
   "execution_count": 4,
   "id": "589953b6",
   "metadata": {},
   "outputs": [
    {
     "name": "stdout",
     "output_type": "stream",
     "text": [
      "Difference of A and B is {0, 8, 6}\n"
     ]
    }
   ],
   "source": [
    "# set difference\n",
    "print('Difference of A and B is', A-B)"
   ]
  },
  {
   "cell_type": "code",
   "execution_count": 5,
   "id": "0252c6eb",
   "metadata": {},
   "outputs": [
    {
     "name": "stdout",
     "output_type": "stream",
     "text": [
      "Symmetric Difference of A and B is {0, 1, 3, 5, 6, 8}\n"
     ]
    }
   ],
   "source": [
    "# symmetric difference \n",
    "print('Symmetric Difference of A and B is', A^B)"
   ]
  },
  {
   "cell_type": "code",
   "execution_count": 7,
   "id": "5721eb0f",
   "metadata": {},
   "outputs": [],
   "source": []
  },
  {
   "cell_type": "code",
   "execution_count": null,
   "id": "34200920",
   "metadata": {},
   "outputs": [],
   "source": []
  },
  {
   "cell_type": "code",
   "execution_count": 1,
   "id": "31dbf104",
   "metadata": {},
   "outputs": [],
   "source": [
    "import pandas as pd\n",
    "import numpy as np"
   ]
  },
  {
   "cell_type": "code",
   "execution_count": 2,
   "id": "880a3c6a",
   "metadata": {},
   "outputs": [
    {
     "data": {
      "text/html": [
       "<div>\n",
       "<style scoped>\n",
       "    .dataframe tbody tr th:only-of-type {\n",
       "        vertical-align: middle;\n",
       "    }\n",
       "\n",
       "    .dataframe tbody tr th {\n",
       "        vertical-align: top;\n",
       "    }\n",
       "\n",
       "    .dataframe thead th {\n",
       "        text-align: right;\n",
       "    }\n",
       "</style>\n",
       "<table border=\"1\" class=\"dataframe\">\n",
       "  <thead>\n",
       "    <tr style=\"text-align: right;\">\n",
       "      <th></th>\n",
       "      <th>Timestamp</th>\n",
       "      <th>What's your age?</th>\n",
       "      <th>What's your gender?</th>\n",
       "      <th>How often do you shop online?</th>\n",
       "      <th>What kind of products do you frequently shop?</th>\n",
       "      <th>Why are you choosing shop online?</th>\n",
       "      <th>In which price range do you often shop?</th>\n",
       "      <th>Which payment method do you prefer for online shopping?</th>\n",
       "      <th>Service quality of sellers is important to you.</th>\n",
       "      <th>Do you have any concerns about your data privacy while shopping online?</th>\n",
       "      <th>Would you recommend online shopping to others?</th>\n",
       "    </tr>\n",
       "  </thead>\n",
       "  <tbody>\n",
       "    <tr>\n",
       "      <th>0</th>\n",
       "      <td>2021-08-07 01:36:44.869</td>\n",
       "      <td>18 - 24</td>\n",
       "      <td>Female</td>\n",
       "      <td>Monthly</td>\n",
       "      <td>Household &amp; Furniture</td>\n",
       "      <td>Product Variety</td>\n",
       "      <td>500 - 5000</td>\n",
       "      <td>Credit card &amp; Debit card</td>\n",
       "      <td>Strongly Agree</td>\n",
       "      <td>No</td>\n",
       "      <td>Yes</td>\n",
       "    </tr>\n",
       "    <tr>\n",
       "      <th>1</th>\n",
       "      <td>2021-08-07 10:34:48.056</td>\n",
       "      <td>18 - 24</td>\n",
       "      <td>Male</td>\n",
       "      <td>Monthly</td>\n",
       "      <td>Electronic Gadgets &amp; Appliances</td>\n",
       "      <td>Product Variety</td>\n",
       "      <td>500 - 5000</td>\n",
       "      <td>UPI</td>\n",
       "      <td>Strongly Agree</td>\n",
       "      <td>Yes</td>\n",
       "      <td>Yes, No</td>\n",
       "    </tr>\n",
       "    <tr>\n",
       "      <th>2</th>\n",
       "      <td>2021-08-07 10:43:17.324</td>\n",
       "      <td>18 - 24</td>\n",
       "      <td>Female</td>\n",
       "      <td>Yearly</td>\n",
       "      <td>Clothing &amp; Accessories</td>\n",
       "      <td>Very convenient and time saving</td>\n",
       "      <td>500 - 5000</td>\n",
       "      <td>Cash On Delivery</td>\n",
       "      <td>Agree</td>\n",
       "      <td>Yes</td>\n",
       "      <td>Yes</td>\n",
       "    </tr>\n",
       "    <tr>\n",
       "      <th>3</th>\n",
       "      <td>2021-08-07 10:44:49.335</td>\n",
       "      <td>18 - 24</td>\n",
       "      <td>Female</td>\n",
       "      <td>Yearly</td>\n",
       "      <td>Clothing &amp; Accessories</td>\n",
       "      <td>Low price</td>\n",
       "      <td>&lt;500 Rs</td>\n",
       "      <td>Cash On Delivery</td>\n",
       "      <td>Strongly Agree</td>\n",
       "      <td>Yes</td>\n",
       "      <td>Maybe</td>\n",
       "    </tr>\n",
       "    <tr>\n",
       "      <th>4</th>\n",
       "      <td>2021-08-07 10:47:22.883</td>\n",
       "      <td>18 - 24</td>\n",
       "      <td>Male</td>\n",
       "      <td>Monthly</td>\n",
       "      <td>Clothing &amp; Accessories</td>\n",
       "      <td>Low price</td>\n",
       "      <td>500 - 5000</td>\n",
       "      <td>UPI</td>\n",
       "      <td>Strongly Agree</td>\n",
       "      <td>Yes</td>\n",
       "      <td>Yes</td>\n",
       "    </tr>\n",
       "  </tbody>\n",
       "</table>\n",
       "</div>"
      ],
      "text/plain": [
       "                Timestamp What's your age? What's your gender?  \\\n",
       "0 2021-08-07 01:36:44.869          18 - 24              Female   \n",
       "1 2021-08-07 10:34:48.056          18 - 24                Male   \n",
       "2 2021-08-07 10:43:17.324          18 - 24              Female   \n",
       "3 2021-08-07 10:44:49.335          18 - 24              Female   \n",
       "4 2021-08-07 10:47:22.883          18 - 24                Male   \n",
       "\n",
       "  How often do you shop online? What kind of products do you frequently shop?  \\\n",
       "0                       Monthly                         Household & Furniture   \n",
       "1                       Monthly               Electronic Gadgets & Appliances   \n",
       "2                        Yearly                        Clothing & Accessories   \n",
       "3                        Yearly                        Clothing & Accessories   \n",
       "4                       Monthly                        Clothing & Accessories   \n",
       "\n",
       "  Why are you choosing shop online? In which price range do you often shop?  \\\n",
       "0                   Product Variety                              500 - 5000   \n",
       "1                   Product Variety                              500 - 5000   \n",
       "2   Very convenient and time saving                              500 - 5000   \n",
       "3                         Low price                                 <500 Rs   \n",
       "4                         Low price                              500 - 5000   \n",
       "\n",
       "  Which payment method do you prefer for online shopping?  \\\n",
       "0                           Credit card & Debit card        \n",
       "1                                                UPI        \n",
       "2                                   Cash On Delivery        \n",
       "3                                   Cash On Delivery        \n",
       "4                                                UPI        \n",
       "\n",
       "  Service quality of sellers is important to you.  \\\n",
       "0                                  Strongly Agree   \n",
       "1                                  Strongly Agree   \n",
       "2                                           Agree   \n",
       "3                                  Strongly Agree   \n",
       "4                                  Strongly Agree   \n",
       "\n",
       "  Do you have any concerns about your data privacy while shopping online?  \\\n",
       "0                                                 No                        \n",
       "1                                                Yes                        \n",
       "2                                                Yes                        \n",
       "3                                                Yes                        \n",
       "4                                                Yes                        \n",
       "\n",
       "  Would you recommend online shopping to others?  \n",
       "0                                            Yes  \n",
       "1                                        Yes, No  \n",
       "2                                            Yes  \n",
       "3                                          Maybe  \n",
       "4                                            Yes  "
      ]
     },
     "execution_count": 2,
     "metadata": {},
     "output_type": "execute_result"
    }
   ],
   "source": [
    "df = pd.read_excel(r'C:\\Users\\Raima\\Desktop\\DA Online Shopping Survey (Responses).xlsx')\n",
    "df.head() "
   ]
  },
  {
   "cell_type": "code",
   "execution_count": null,
   "id": "9bc96ecf",
   "metadata": {},
   "outputs": [],
   "source": []
  },
  {
   "cell_type": "code",
   "execution_count": null,
   "id": "20101257",
   "metadata": {},
   "outputs": [],
   "source": []
  },
  {
   "cell_type": "code",
   "execution_count": 3,
   "id": "44380411",
   "metadata": {},
   "outputs": [],
   "source": [
    "import pandas as pd\n",
    "import numpy as np\n",
    "import seaborn as sns\n",
    "from matplotlib import pyplot as plt\n",
    "%matplotlib inline"
   ]
  },
  {
   "cell_type": "code",
   "execution_count": 4,
   "id": "5c7bc763",
   "metadata": {},
   "outputs": [
    {
     "name": "stdout",
     "output_type": "stream",
     "text": [
      "  TIME PERIOD  PRODUCTIVITY LEVEL\n",
      "0     8AM-9AM                   5\n",
      "1    9AM-10AM                   4\n",
      "2   10AM-11AM                   2\n",
      "3    11AM-1PM                   5\n",
      "4     1PM-3PM                   2\n",
      "5     3PM-6PM                   1\n",
      "6     6PM-8PM                   3\n",
      "7    8PM-10PM                   5\n",
      "8   10PM-12AM                   3\n"
     ]
    }
   ],
   "source": [
    "df = pd.read_excel(r'C:\\Users\\Raima\\Desktop\\DA TASK 5.xlsx')\n",
    "print(df)"
   ]
  },
  {
   "cell_type": "code",
   "execution_count": 8,
   "id": "058ac525",
   "metadata": {},
   "outputs": [
    {
     "data": {
      "image/png": "[encoded data removed]",
      "text/plain": [
       "<Figure size 432x288 with 1 Axes>"
      ]
     },
     "metadata": {
      "needs_background": "light"
     },
     "output_type": "display_data"
    }
   ],
   "source": [
    "plt.bar('TIME PERIOD' , 'PRODUCTIVITY LEVEL', data = df)\n",
    "plt.xticks(rotation = 90)\n",
    "plt.show()"
   ]
  },
  {
   "cell_type": "code",
   "execution_count": null,
   "id": "ed2f74ff",
   "metadata": {},
   "outputs": [],
   "source": []
  }
 ],
 "metadata": {
  "kernelspec": {
   "display_name": "Python 3 (ipykernel)",
   "language": "python",
   "name": "python3"
  },
  "language_info": {
   "codemirror_mode": {
    "name": "ipython",
    "version": 3
   },
   "file_extension": ".py",
   "mimetype": "text/x-python",
   "name": "python",
   "nbconvert_exporter": "python",
   "pygments_lexer": "ipython3",
   "version": "3.9.6"
  }
 },
 "nbformat": 4,
 "nbformat_minor": 5
}
